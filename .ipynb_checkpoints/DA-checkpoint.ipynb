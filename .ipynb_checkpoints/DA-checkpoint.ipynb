{
 "cells": [
  {
   "cell_type": "markdown",
   "id": "d4e52277",
   "metadata": {},
   "source": [
    "# Q1 What is the difference between a function and a method in Python?"
   ]
  },
  {
   "cell_type": "code",
   "execution_count": 1,
   "id": "ce0339ad",
   "metadata": {},
   "outputs": [
    {
     "name": "stdout",
     "output_type": "stream",
     "text": [
      "Hello, Aakash Maddheshiya!\n",
      "Hello, my name is Aakash Maddheshiya\n"
     ]
    }
   ],
   "source": [
    "# Functions and Methods:\n",
    "# While both functions and methods are used to encapsulate code and perform specific tasks there is a key difference based on their association with objects:\n",
    "# The key points of Functions and Methods\n",
    "# Functions:\n",
    "\n",
    "# Independent: They are not associated with any particular object or class.\n",
    "# Global: Can be called from anywhere in the program.\n",
    "# General-purpose: Can be used for various tasks.\n",
    "# Example\n",
    "def greet(name):\n",
    "  print(\"Hello, \" + name + \"!\")\n",
    "greet(\"Aakash Maddheshiya\")\n",
    "\n",
    "# Methods:\n",
    "\n",
    "# Bound to objects: They are defined within a class and belong to specific instances of that class.\n",
    "# Local: Typically accessed through an object's instance.\n",
    "# Object-specific: Perform actions related to the object's properties and behavior.\n",
    "# Example\n",
    "class Person:\n",
    "  def __init__(self, name):\n",
    "    self.name = name\n",
    "\n",
    "  def greet(self):\n",
    "    print(\"Hello, my name is \" + self.name)\n",
    "person=Person(\"Aakash Maddheshiya\")\n",
    "person.greet()"
   ]
  },
  {
   "cell_type": "markdown",
   "id": "bc89ee8c",
   "metadata": {},
   "source": [
    "# Q2 Explain the concept of function arguments and parameters in Python"
   ]
  },
  {
   "cell_type": "code",
   "execution_count": 2,
   "id": "2c22af22",
   "metadata": {},
   "outputs": [
    {
     "name": "stdout",
     "output_type": "stream",
     "text": [
      "Hello, Alice! You are 30 years old.\n",
      "Hello, Bob! You are 30 years old.\n"
     ]
    }
   ],
   "source": [
    "# Function Arguments and Parameters\n",
    "\n",
    "# Parameters: Placeholders in a function's definition that specify the names and types of values the function expects to receive.\n",
    "# Arguments: Actual values passed to the function when it is called.\n",
    "\n",
    "def greet(name, age):\n",
    "  print(\"Hello, \" + name + \"! You are \" + str(age) + \" years old.\")\n",
    "\n",
    "# Positional arguments\n",
    "greet(\"Alice\", 30)\n",
    "\n",
    "# Keyword arguments\n",
    "greet(age=30, name=\"Bob\")"
   ]
  },
  {
   "cell_type": "markdown",
   "id": "faba1134",
   "metadata": {},
   "source": [
    "# Q3What are the different ways to define and call a function in Python?"
   ]
  },
  {
   "cell_type": "code",
   "execution_count": 3,
   "id": "9947e227",
   "metadata": {},
   "outputs": [
    {
     "name": "stdout",
     "output_type": "stream",
     "text": [
      "Hello, Aakash Maddheshiya!\n",
      "Hello, Aakash Maddheshiya!\n"
     ]
    }
   ],
   "source": [
    "# There are two primary ways to define a function in Python:\n",
    "\n",
    "# 1. Using the def keyword:\n",
    "\n",
    "# This is the most common and standard way to define a function.\n",
    "# The function's name, parameters and body are defined within the def statement.\n",
    "def greet(name):\n",
    "    print(\"Hello, \" + name + \"!\")\n",
    "greet(\"Aakash Maddheshiya\")\n",
    "\n",
    "# . Using lambda expressions:\n",
    "\n",
    "# Lambda expressions are anonymous functions defined in a single line using the lambda keyword.\n",
    "# They are often used for simple, one-line functions.\n",
    "greet = lambda name: print(\"Hello, \" + name + \"!\")\n",
    "greet(\"Aakash Maddheshiya\")"
   ]
  },
  {
   "cell_type": "markdown",
   "id": "67dd7c0c",
   "metadata": {},
   "source": [
    "# Q4  What is the purpose of the `return` statement in a Python function?"
   ]
  },
  {
   "cell_type": "code",
   "execution_count": 4,
   "id": "9353e22e",
   "metadata": {},
   "outputs": [
    {
     "name": "stdout",
     "output_type": "stream",
     "text": [
      "8\n"
     ]
    }
   ],
   "source": [
    "# The return statement in a Python function is used to end the function's execution and provide a value to the caller.\n",
    "def add_numbers(x, y):\n",
    "    result = x + y\n",
    "    return result\n",
    "\n",
    "sum = add_numbers(3, 5)\n",
    "print(sum) "
   ]
  },
  {
   "cell_type": "markdown",
   "id": "67038271",
   "metadata": {},
   "source": [
    "# Q5 What are iterators in Python and how do they differ from iterables?"
   ]
  },
  {
   "cell_type": "code",
   "execution_count": 5,
   "id": "0e4d93d4",
   "metadata": {},
   "outputs": [
    {
     "name": "stdout",
     "output_type": "stream",
     "text": [
      "1\n",
      "2\n",
      "3\n"
     ]
    }
   ],
   "source": [
    "# Iterables\n",
    "# Iterables are objects that provide an iterator when iterated using a for loop or the built-in iter() function.\n",
    "# Examples: Lists, tuples, sets, dictionaries, strings, and custom objects that implement the __iter__ method.\n",
    "\n",
    "# Iterators\n",
    "# Iterators are objects that implement the __next__ method, which returns the next item in the sequence.\n",
    "# The iter() function is used to create an iterator from an iterable.\n",
    "# Once an iterator is exhausted, it cannot be reused.\n",
    "my_list = [1, 2, 3]  # Iterable\n",
    "\n",
    "# Creating an iterator from the list\n",
    "my_iterator = iter(my_list)\n",
    "\n",
    "# Iterating over the iterator\n",
    "print(next(my_iterator)) \n",
    "print(next(my_iterator))  \n",
    "print(next(my_iterator))  "
   ]
  },
  {
   "cell_type": "markdown",
   "id": "652e230f",
   "metadata": {},
   "source": [
    "# Q6 Explain the concept of generators in Python and how they are defined"
   ]
  },
  {
   "cell_type": "code",
   "execution_count": 6,
   "id": "6fed3249",
   "metadata": {},
   "outputs": [
    {
     "name": "stdout",
     "output_type": "stream",
     "text": [
      "10\n",
      "11\n",
      "12\n",
      "13\n",
      "14\n"
     ]
    }
   ],
   "source": [
    "#1 Generators are a special type of function in Python that return an iterator. Unlike regular functions that return a single value at a time,\n",
    "# generators return a sequence of values one at a time using the yield keyword. This makes them efficient for working with large datasets or \n",
    "# infinite sequences.\n",
    "#2 Generators are defined using the yield keyword instead of return within a function. \n",
    "def count_up(start=0):\n",
    "    n = start\n",
    "    while True:\n",
    "        yield n\n",
    "        n += 1\n",
    "\n",
    "# Create a generator object\n",
    "counter = count_up(10)\n",
    "\n",
    "# Iterate over the generator\n",
    "for i in range(5):\n",
    "    print(next(counter))\n"
   ]
  },
  {
   "cell_type": "markdown",
   "id": "21cc6c68",
   "metadata": {},
   "source": [
    "# Q7  What are the advantages of using generators over regular functions?"
   ]
  },
  {
   "cell_type": "code",
   "execution_count": 7,
   "id": "c7056c57",
   "metadata": {},
   "outputs": [],
   "source": [
    "# generators are a powerful tool in Python that can improve memory efficiency, performance, and code readability, especially when working with large datasets or infinite sequences."
   ]
  },
  {
   "cell_type": "markdown",
   "id": "eec18452",
   "metadata": {},
   "source": [
    "# Q8  What is a lambda function in Python and when is it typically used?"
   ]
  },
  {
   "cell_type": "code",
   "execution_count": 8,
   "id": "05bd1fad",
   "metadata": {},
   "outputs": [
    {
     "name": "stdout",
     "output_type": "stream",
     "text": [
      "7\n"
     ]
    }
   ],
   "source": [
    "# A lambda function is a small, anonymous function defined using the lambda keyword. It's often referred to as a lambda expression\" or \"anonymous function.\n",
    "lambda arguments: expression\n",
    "# arguments: A comma-separated list of arguments.\n",
    "# expression: A single expression that the function evaluates and returns.\n",
    "add = lambda x, y: x + y\n",
    "result = add(3, 4)\n",
    "print(result) "
   ]
  },
  {
   "cell_type": "markdown",
   "id": "a5369aeb",
   "metadata": {},
   "source": [
    "# Q9  Explain the purpose and usage of the `map()` function in Python."
   ]
  },
  {
   "cell_type": "code",
   "execution_count": 9,
   "id": "44b4128b",
   "metadata": {},
   "outputs": [
    {
     "name": "stdout",
     "output_type": "stream",
     "text": [
      "{'a': 1, 'b': 4, 'c': 9}\n"
     ]
    }
   ],
   "source": [
    "# The map() function in Python is a built-in function that applies a given function to each item in an iterable (like a list, tuple, or set) and returns a new iterable containing the results.\n",
    "def square(itme):\n",
    "    key,value=itme\n",
    "    return key ,value**2\n",
    "my_dict = {'a': 1, 'b': 2, 'c': 3}\n",
    "\n",
    "squared_numbers = dict(map(square, my_dict.items()))\n",
    "\n",
    "print(squared_numbers)"
   ]
  },
  {
   "cell_type": "markdown",
   "id": "2f7f252d",
   "metadata": {},
   "source": [
    "# Q10 What is the difference between `map()`, `reduce()`, and `filter()` functions in Python?"
   ]
  },
  {
   "cell_type": "code",
   "execution_count": 10,
   "id": "f056d626",
   "metadata": {},
   "outputs": [
    {
     "name": "stdout",
     "output_type": "stream",
     "text": [
      "{'a': 1, 'b': 4, 'c': 9}\n",
      "15\n",
      "[2, 4]\n"
     ]
    }
   ],
   "source": [
    "# Q10 map()\n",
    "# Purpose: Applies a function to each element of an iterable and returns a new iterable containing the results.\n",
    "# Syntax: map(function, iterable)\n",
    "# Example\n",
    "def square(itme):\n",
    "    key,value=itme\n",
    "    return key ,value**2\n",
    "my_dict = {'a': 1, 'b': 2, 'c': 3}\n",
    "\n",
    "squared_numbers = dict(map(square, my_dict.items()))\n",
    "\n",
    "print(squared_numbers)\n",
    "\n",
    "# reduce()\n",
    "# Purpose: Accumulates a single value from an iterable by applying a function to the first two elements, then applying the function to the result and the next element, and so on.\n",
    "# Syntax: reduce(function, iterable, initializer=None)\n",
    "# Example:\n",
    "from functools import reduce\n",
    "\n",
    "def add(x, y):\n",
    "    return x + y\n",
    "\n",
    "numbers = [1, 2, 3, 4, 5]\n",
    "\n",
    "sum = reduce(add, numbers)\n",
    "\n",
    "print(sum)\n",
    "\n",
    "# filter()\n",
    "# Purpose: Creates a new iterable containing only the elements from the original iterable that satisfy a given condition.\n",
    "# Syntax: filter(function, iterable)\n",
    "# Example\n",
    "\n",
    "def is_even(x):\n",
    "    return x % 2 == 0\n",
    "\n",
    "numbers = [1, 2, 3, 4, 5]\n",
    "\n",
    "even_numbers = list(filter(is_even, numbers))\n",
    "\n",
    "print(even_numbers)\n",
    "# Key Differences:\n",
    "\n",
    "# map(): Applies a function to each element and returns a new iterable with the results.\n",
    "# reduce(): Combines elements of an iterable into a single value using a function.\n",
    "# filter(): Selects elements from an iterable based on a condition and returns a new iterable.\n",
    "\n",
    "# Common Use Cases:\n",
    "# map(): Transforming data, applying functions to elements.\n",
    "# reduce(): Calculating sums, products, maximums, minimums, etc.\n",
    "# filter(): Selecting elements based on conditions, filtering data."
   ]
  },
  {
   "cell_type": "code",
   "execution_count": null,
   "id": "06428089",
   "metadata": {},
   "outputs": [],
   "source": []
  }
 ],
 "metadata": {
  "kernelspec": {
   "display_name": "Python 3 (ipykernel)",
   "language": "python",
   "name": "python3"
  },
  "language_info": {
   "codemirror_mode": {
    "name": "ipython",
    "version": 3
   },
   "file_extension": ".py",
   "mimetype": "text/x-python",
   "name": "python",
   "nbconvert_exporter": "python",
   "pygments_lexer": "ipython3",
   "version": "3.9.13"
  }
 },
 "nbformat": 4,
 "nbformat_minor": 5
}
